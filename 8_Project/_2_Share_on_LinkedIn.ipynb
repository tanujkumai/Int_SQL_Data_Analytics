{
 "cells": [
  {
   "cell_type": "markdown",
   "id": "79e52040",
   "metadata": {},
   "source": [
    "<a target=\"_blank\" href=\"https://colab.research.google.com/github/lukebarousse/Int_SQL_Data_Analytics_Course/blob/main/8_Project/_2_Share_on_LinkedIn.ipynb\">\n",
    "  <img src=\"https://colab.research.google.com/assets/colab-badge.svg\" alt=\"Open In Colab\"/>\n",
    "</a>"
   ]
  },
  {
   "cell_type": "markdown",
   "metadata": {},
   "source": [
    "# Share on LinkedIn"
   ]
  },
  {
   "cell_type": "markdown",
   "metadata": {},
   "source": [
    "## How do you showcase your experience on LinkedIn?\n",
    "\n",
    "1. Add the certificate of completion to your profile\n",
    "2. Add this project to your profile\n",
    "3. Make a LinkedIn post"
   ]
  },
  {
   "cell_type": "markdown",
   "metadata": {},
   "source": [
    "### Add Certificate to LinkedIn Profile\n",
    "\n",
    "> ⚠️ Note: You only get a certificate if you bought the additional course resources. \n",
    "\n",
    "To upload your certificate from this course:\n",
    "\n",
    "1. Check your email for the certificate. The subject line should be something like “Congrats on finishing Excel Course for Data Analytics”. Then click the ‘View certificate’ button. \n",
    "    \n",
    "    <img src=\"../Resources/images/8.2_Linkedin_1.png\" alt=\"View Kajabi Certificate\" style=\"width: 50%; height: auto;\">\n",
    "    \n",
    "2. Download the certificate and/or copy the link at the bottom below. \n",
    "    \n",
    "    <img src=\"../Resources/images/8.2_Linkedin_2.png\" alt=\"Download Kajabi Certificate\" style=\"width: 50%; height: auto;\">\n",
    "    \n",
    "3. Navigate to your LinkedIn profile\n",
    "4. Two ways to add:\n",
    "    1. Click the ‘Add profile section’ button, then click ‘Add licenses & certifications.’\n",
    "        \n",
    "        <img src=\"../Resources/images/8.2_Linkedin_3.png\" alt=\"LinkedIn Add profile section\" style=\"width: 50%; height: auto;\">\n",
    "        \n",
    "        <img src=\"../Resources/images/8.2_Linkedin_10.png\" alt=\"LinkedIn Add to profile options\" style=\"width: 50%; height: auto;\">\n",
    "        \n",
    "    2. If you already have a certificate, scroll to the Licenses & certifications section and click the + icon. \n",
    "        \n",
    "        <img src=\"../Resources/images/8.2_Linkedin_4.png\" alt=\"LinkedIn Add licenses & certifications\" style=\"width: 50%; height: auto;\">\n",
    "        \n",
    "5. Fill in the information:\n",
    "    1. **Name:** Excel for Data Analytics\n",
    "    2. Issuing Organization: Luke Barousse \n",
    "    3. **Issue Date: T**he month and year you completed the course.\n",
    "    4. **Expiration Date:** Leave this as the default\n",
    "    5. **Credential URL**: Paste the certificate URL you got in step 1\n",
    "    6. **Media (Optional):** Upload the certificate you downloaded in step 2\n",
    "    7. **Skills:** Microsoft Excel, DAX, Github, Git\n",
    "    \n",
    "        <img src=\"../Resources/images/8.2_Linkedin_5.png\" alt=\"LinkedIn Add license or certification details\" style=\"width: 50%; height: auto;\">\n",
    "    \n",
    "6. Then click ‘Save’"
   ]
  },
  {
   "cell_type": "markdown",
   "metadata": {},
   "source": [
    "### Add Project to LinkedIn Profile\n",
    "\n",
    "1. Navigate to your LinkedIn profile\n",
    "2. Two ways to add:\n",
    "    1. Click the ‘Add profile section’ button, then click ‘Add projects’\n",
    "        \n",
    "        <img src=\"../Resources/images/8.2_Linkedin_3.png\" alt=\"LinkedIn Add profile section button\" style=\"width: 50%; height: auto;\">\n",
    "        \n",
    "        <img src=\"../Resources/images/8.2_Linkedin_6.png\" alt=\"LinkedIn Add to profile options\" style=\"width: 50%; height: auto;\">\n",
    "        \n",
    "    2. If you already have a project, scroll to the Projects section and click the + icon. \n",
    "        \n",
    "        <img src=\"../Resources/images/8.2_Linkedin_7.png\" alt=\"LinkedIn Add additional project\" style=\"width: 50%; height: auto;\">\n",
    "        \n",
    "3. Fill in the information:\n",
    "    1. Project Name: [Insert the name of your project (e.g., Data Science Job Dashboard w/Excel)]\n",
    "    2. Description: [Provide a short description of the project (e.g., Using Excel, I created a job posting dashboard to use to investigate data job salaries by job title, country, and type. Check out my findings on my GitHub page linked here.)]\n",
    "    3. Skills: Microsoft Excel, Data Visualization, Git, GitHub\n",
    "    4. Media: [Insert link to GitHub Project]\n",
    "    5. Additional Details: [Insert start and end date, leave the remaining blank]\n",
    "    \n",
    "        <img src=\"../Resources/images/8.2_Linkedin_8.png\" alt=\"LinkedIn Add project details\" style=\"width: 50%; height: auto;\">\n",
    "    \n",
    "4. Then click ‘Save’"
   ]
  },
  {
   "cell_type": "markdown",
   "metadata": {},
   "source": [
    "### Create a LinkedIn Post\n",
    "\n",
    "Post on LinkedIn and tag [Luke](https://www.linkedin.com/in/luke-b/) and [Kelly](https://www.linkedin.com/in/kellyjianadams/) in it 🙌\n",
    "\n",
    "<img src=\"../Resources/images/8.2_Linkedin_9.png\" alt=\"LinkedIn create post\" style=\"width: 50%; height: auto;\">\n",
    "\n",
    "Here’s some ideas on what you could write about:\n",
    "\n",
    "- **The Project** - A summary of the project, questions you wanted answered, and where you got the data.\n",
    "- **Challenges** - Any challenges you faced\n",
    "- **Insights** - The insights you derived from your analysis\n",
    "- **What You Learned** - Everything you learned about by doing this project (e.g. technical skills, how to analyze data, etc.)"
   ]
  },
  {
   "cell_type": "markdown",
   "metadata": {},
   "source": [
    "## What’s Next?\n",
    "\n",
    "- First, congratulations on finishing this course! 🎉\n",
    "- With the insights you gained from what skills you should learn; dive into learning another skill\n",
    "    - Here are some other courses I have: [Courses](https://www.lukebarousse.com/courses)\n",
    "\n",
    "P.S. I'll be launching a new Advanced SQL course soon! Stay tuned!"
   ]
  }
 ],
 "metadata": {
  "language_info": {
   "name": "python"
  }
 },
 "nbformat": 4,
 "nbformat_minor": 2
}
