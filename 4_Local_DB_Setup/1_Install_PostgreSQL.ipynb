{
 "cells": [
  {
   "cell_type": "markdown",
   "id": "d2d7cc56",
   "metadata": {},
   "source": [
    "<a target=\"_blank\" href=\"https://colab.research.google.com/github/lukebarousse/Int_SQL_Data_Analytics_Course/blob/main/4_Local_DB_Setup/1_Install_PostgreSQL.ipynb\">\n",
    "  <img src=\"https://colab.research.google.com/assets/colab-badge.svg\" alt=\"Open In Colab\"/>\n",
    "</a>"
   ]
  },
  {
   "cell_type": "markdown",
   "metadata": {},
   "source": [
    "# Installing PostgreSQL"
   ]
  },
  {
   "cell_type": "markdown",
   "metadata": {},
   "source": [
    "## How will we be running queries?\n",
    "\n",
    "Now we'll be shifting from Jupyter Notebooks to running a PostgreSQL database locally on your computer.\n",
    "\n",
    "### **🐘 Database Editor**\n",
    "\n",
    "- **Database Integrated Development Environments (IDEs)**: Many databases offer their  tools for query execution, such as SQL Server Management Studio for SQL Server or pgAdmin for PostgreSQL.\n",
    "\n",
    "### Locally\n",
    "\n",
    "*We will be running the database locally on your computer; This is a great way to getting familiar with using databases and if you make any mistakes you can easily start over*\n",
    "\n",
    "### 😄 Pros  \n",
    "\n",
    "- **Privacy & Security:** Data stays on your machine.  \n",
    "- **Deeper Learning:** Hands-on database management improves understanding.  \n",
    "- **Cost-Free:** No extra costs if using your own computer (any PC made after 2010 should work).  \n",
    "- **Offline Access:** No internet required.  \n",
    "\n",
    "### 🥺 Cons  \n",
    "\n",
    "- **Cloud is Easier:** No setup required with platforms like BigQuery.  \n",
    "- **Better Performance:** Cloud services offer high-end hardware (GPUs, TPUs).  \n",
    "- **Collaboration:** Cloud-based tools allow multiple users to work together easily.  \n",
    "---\n",
    "\n",
    "## 🤓 How do I use it as a Data Analyst?\n",
    "\n",
    "*The majority of the data I work with in the real world is located in a database (or has to be put into a database)*\n",
    "\n",
    "1. **Data Manipulation**: Essential for managing large datasets where Excel falls short; Both my corporate job and that with MrBeast used SQL extensively\n",
    "2. **Efficient Analysis**: Enables quick access and organization of data, crucial for analyzing everything from social media metrics to transactional data\n",
    "3. **App Integration:** Because SQL is the language to connect to databases, it is needed to connect to popular data analytic apps: Power BI, Tableau, and even MS Excel"
   ]
  },
  {
   "cell_type": "markdown",
   "metadata": {},
   "source": [
    "---\n",
    "# PostgreSQL Installation Guide  \n",
    "\n",
    "### Download PostgreSQL & pgAdmin\n",
    "\n",
    "1. **Download the Installer**  \n",
    "   - [PostgreSQL Download](https://www.postgresql.org/download/)  \n",
    "   - **Version:** Choose **17.2** (Recommended for this course).  \n",
    "     - **Note:** We **can’t guarantee** everything will work if you use a different version.  \n",
    "   - **Select Your OS:** Download the correct installer for **Windows, Mac, or Linux**.  \n",
    "\n",
    "2. **Run the Installer**  \n",
    "   - Locate the downloaded file in your **Downloads** folder and open it.  \n",
    "   - Follow the installation steps, keeping default settings.  \n",
    "   - **Ensure both PostgreSQL Server and pgAdmin are selected** for installation.  \n",
    "\n",
    "3. **Setup Configuration** (Keep Defaults)  \n",
    "   - **Create a Password:** Set to `'password'` (for simplicity in this course).  \n",
    "     - **Note:** If handling **sensitive data**, choose a more secure password.  \n",
    "   - **Port Number:** `5432` (Default, do not change).  \n",
    "   - **Locale:** `[Default Locale]`.  \n",
    "\n",
    "4. **Complete the Installation**  \n",
    "   - Click **Finish** once the setup is done.  \n",
    "   - PostgreSQL Server and pgAdmin are now installed and ready to use.  \n",
    "\n",
    "\n",
    "### 🖥️ Database Start Up\n",
    "\n",
    "# Starting PostgreSQL with pgAdmin  \n",
    "\n",
    "1. **Start PostgreSQL Using pgAdmin**  \n",
    "   - Open the **pgAdmin** application.  \n",
    "   - The database **must be running** to execute queries.  \n",
    "   - **Note:** PostgreSQL does not start automatically after a computer restart—you must start it manually.  \n",
    "\n",
    "2. **Start the Database in pgAdmin**  \n",
    "   - In the left panel, navigate to **`PostgreSQL 17 / Databases`**.  \n",
    "   - Click on your database to start it.  \n",
    "   - When active, the database icon will **turn gold**, indicating it is running.  \n",
    "\n",
    "\n",
    "### Contoso Database Setup\n",
    "\n",
    "#### Steps:\n",
    "1. Download the [Contoso database](https://github.com/lukebarousse/Int_SQL_Data_Analytics_Course/releases).\n",
    "2. Open pgAdmin 4.\n",
    "3. In Object Explorer, connect to your PostgreSQL server.\n",
    "4. Right-click on \"Databases\" > \"Create\" > \"Database...\".  \n",
    "\n",
    "<img src=\"../Resources/images/pgAdmin_CreateDatabase.gif\" alt=\"Create Database\" width=\"25%\" height=\"auto\" style=\"margin-left: 45px;\">\n",
    "\n",
    "5. Enter `contoso_100k`for \"Database\" and click \"Save\".\n",
    "6. In Object Explorer, right-click on the `contoso_100k` database > \"PSQL Tool\".\n",
    "7. In the PSQL Tools Window, enter `\\i [path to contoso_100k.sql]` and press enter.\n",
    "> ```\n",
    "> \\i '/Users/lukebarousse/Desktop/contoso_100k.sql'\n",
    "> ```\n",
    "8. In the Query Tool, set default password for the `postgres` user to `password`.  \n",
    " **⚠ If you have sensitive information in your server DO NOT do this step; also not required if this is already your password ⚠️**\n",
    "> ```\n",
    "> ALTER USER postgres WITH PASSWORD 'password';\n",
    "> ```"
   ]
  },
  {
   "cell_type": "markdown",
   "metadata": {},
   "source": [
    "### pgAdmin Overview\n",
    "\n",
    "<img src=\"../Resources/images/pgAdmin_overview.png\" alt=\"pg Admin Overview\" style=\"width: 80%; height: auto;\">\n",
    "\n",
    "1. Database overview\n",
    "    1. Here we see the `contoso_100k` database with our 6 tables.\n",
    "2. SQL editor\n",
    "    1. Write your queries here to execute against the database (F5 shortcut).\n",
    "3. SQL results\n",
    "    1. The results of the query are displayed in a table format."
   ]
  },
  {
   "cell_type": "markdown",
   "metadata": {},
   "source": [
    "#### Query Tool \n",
    "\n",
    "To open the query tool:\n",
    "\n",
    "1. Right click any table name.\n",
    "2. Click `Query Tool`.\n",
    "3. Write your SQL query in the top window under `Query`.\n",
    "\n",
    "![pgAdmin Open Query Tool](../Resources/images/pgAdmin_open_query_tool.gif)\n"
   ]
  }
 ],
 "metadata": {
  "kernelspec": {
   "display_name": "sql_course",
   "language": "python",
   "name": "python3"
  },
  "language_info": {
   "codemirror_mode": {
    "name": "ipython",
    "version": 3
   },
   "file_extension": ".py",
   "mimetype": "text/x-python",
   "name": "python",
   "nbconvert_exporter": "python",
   "pygments_lexer": "ipython3",
   "version": "3.11.10"
  }
 },
 "nbformat": 4,
 "nbformat_minor": 2
}
