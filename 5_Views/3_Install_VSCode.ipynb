{
 "cells": [
  {
   "cell_type": "markdown",
   "id": "982f41df",
   "metadata": {},
   "source": [
    "<a target=\"_blank\" href=\"https://colab.research.google.com/github/lukebarousse/Int_SQL_Data_Analytics_Course/blob/main/5_Views/3_Install_VSCode.ipynb\">\n",
    "  <img src=\"https://colab.research.google.com/assets/colab-badge.svg\" alt=\"Open In Colab\"/>\n",
    "</a>"
   ]
  },
  {
   "cell_type": "markdown",
   "metadata": {},
   "source": [
    "# Install & Setup VS Code"
   ]
  },
  {
   "cell_type": "markdown",
   "metadata": {},
   "source": [
    "## Overview"
   ]
  },
  {
   "cell_type": "markdown",
   "metadata": {},
   "source": [
    "### 📘 Concepts Covered\n",
    "\n",
    "- Download VS Code\n",
    "- Overview of VS Code\n",
    "- Setup Project Folder\n",
    "- Install Extensions\n",
    "- Build README.md file"
   ]
  },
  {
   "cell_type": "markdown",
   "metadata": {},
   "source": [
    "---\n",
    "## Install VS Code\n",
    "\n",
    "1. Go to [VS Code](https://code.visualstudio.com/)\n",
    "2. Click on the \"Download\" button\n",
    "3. Install the application\n",
    "4. Open VS Code"
   ]
  },
  {
   "cell_type": "markdown",
   "metadata": {},
   "source": [
    "---\n",
    "## Overview of VS Code\n",
    "\n",
    "<img src=\"../Resources/images/5.3_Vs_overview.png\" alt=\"VS Code\" width=\"50%\">\n",
    "\n",
    "1. **Activity Bar**\n",
    "    - Provides icons for quick access to different views (Explorer, Search, Git, Debug, Extensions)\n",
    "2. **Side Bar**\n",
    "    - Displays additional information based on the selected view in the Activity Bar, such as file explorer for navigating files and folders, search results, source control operations, etc.\n",
    "3. **Code Editor**\n",
    "    - The central area where you write and edit your SQL code, featuring syntax highlighting, IntelliSense, and tabbed interface for open files"
   ]
  },
  {
   "cell_type": "markdown",
   "metadata": {},
   "source": [
    "### Install Extensions\n",
    "\n",
    "1. Open the Extensions view by clicking on the Extensions icon in the Activity Bar or pressing `Ctrl+Shift+X`.\n",
    "2. Search for and install the following extensions:\n",
    "    - [Code Spell Checker](https://marketplace.visualstudio.com/items?itemName=streetsidesoftware.code-spell-checker)\n",
    "    - [Prettier SQL Code](https://marketplace.visualstudio.com/items?itemName=inferrinizzard.prettier-sql-vscode)\n",
    "    - [GitHub CoPilot](https://github.com/features/copilot)"
   ]
  },
  {
   "cell_type": "markdown",
   "metadata": {},
   "source": [
    "---\n",
    "\n",
    "## Setup Project Folder\n",
    "\n",
    "<img src=\"../Resources/images/5.3_Folder_add.png\" alt=\"Folder Add\" width=\"50%\">\n",
    "\n",
    "1. Create project folder inside of your DBeaver project called: `SQL_Intermediate_Sales_Analysis`\n",
    "2. Open VS Code at this location:\n",
    "    - e.g., `/Users/lukebarousse/Library/DBeaverData/workspace6/Int_SQL_Project/SQL_Intermediate_Sales_Analysis`\n",
    "3. Create a new file called: `2_cohort_analysis.sql`\n",
    "4. Insert the SQL code from the previous lesson into this file."
   ]
  },
  {
   "cell_type": "markdown",
   "metadata": {},
   "source": [
    "---\n",
    "\n",
    "## Build README.md file\n",
    "\n",
    "1. Create a new file called: `README.md`\n",
    "2. How to add markdown:\n",
    "    ```markdown\n",
    "    # SQL Intermediate Sales Analysis\n",
    "    ```\n",
    "    - [Markdown Cheat Sheet](https://www.markdownguide.org/cheat-sheet/)\n",
    "3. How to add images:\n",
    "    - Create a new folder called: `images`\n",
    "    - Add the image to this folder\n",
    "    - Add the image to the README.md file\n",
    "    ```markdown\n",
    "    ![Image](images/image_name.png)\n",
    "    ```\n",
    "4. Using the following format to build out your project readme:\n",
    "    ```markdown\n",
    "    # Project Readme\n",
    "\n",
    "    ## Overview\n",
    "    {insert overview here}\n",
    "\n",
    "    ## Business Questions\n",
    "    {insert business questions here}\n",
    "\n",
    "    ## Analysis Approach\n",
    "\n",
    "    ### 1. {insert analysis approach here}\n",
    "    - {insert analysis approach here}\n",
    "\n",
    "    🖥️ Query: [1_query_.sql](sql_1.sql)\n",
    "\n",
    "    **📈 Visualization:**\n",
    "\n",
    "    ![image_name](image_name.png)\n",
    "\n",
    "    📊 **Key Findings:**\n",
    "    - {insert key findings here}\n",
    "\n",
    "    💡 **Business Insights**\n",
    "    - {insert business insights here}\n",
    "\n",
    "    {Repeat for each analysis approach}\n",
    "\n",
    "    ## Strategic Recommendations\n",
    "\n",
    "    1. {insert strategic recommendations here}\n",
    "\n",
    "    ## Technical Details\n",
    "    - **Database:** PostgreSQL\n",
    "    - **Analysis Tools:** PostgreSQL\n",
    "    - **Visualization:** ChatGPT\n",
    "    ```"
   ]
  }
 ],
 "metadata": {
  "kernelspec": {
   "display_name": "sql_course",
   "language": "python",
   "name": "python3"
  },
  "language_info": {
   "name": "python",
   "version": "3.11.10"
  }
 },
 "nbformat": 4,
 "nbformat_minor": 2
}
