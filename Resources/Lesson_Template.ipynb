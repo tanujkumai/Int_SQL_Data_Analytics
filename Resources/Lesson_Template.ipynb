{
 "cells": [
  {
   "cell_type": "markdown",
   "id": "128dcc6c",
   "metadata": {},
   "source": [
    "<a target=\"_blank\" href=\"https://colab.research.google.com/github/lukebarousse/Int_SQL_Data_Analytics_Course/blob/main/Resources/Lesson_Template.ipynb\">\n",
    "  <img src=\"https://colab.research.google.com/assets/colab-badge.svg\" alt=\"Open In Colab\"/>\n",
    "</a>"
   ]
  },
  {
   "cell_type": "markdown",
   "metadata": {},
   "source": [
    "# Notebook Template\n",
    "\n",
    "**This should be deleted / hidden once the course has launched**"
   ]
  },
  {
   "cell_type": "markdown",
   "metadata": {},
   "source": [
    "## Overview"
   ]
  },
  {
   "cell_type": "markdown",
   "metadata": {},
   "source": [
    "### 🥅 Analysis Goals\n",
    "\n",
    "What the goals of this whole analysis (section) is for e.g. Create a retention analysis to focus on X. \n",
    "\n",
    "- Subgoal 1 \n",
    "- Subgoal 2\n",
    "- Subgoal 3"
   ]
  },
  {
   "cell_type": "markdown",
   "metadata": {},
   "source": [
    "### 📘 Concepts Covered\n",
    "\n",
    "- Concept 1\n",
    "- Concept 2\n",
    "- Concept 3"
   ]
  },
  {
   "cell_type": "markdown",
   "metadata": {},
   "source": [
    "### 📕 Definitions\n",
    "\n",
    "- **Term**: Definition "
   ]
  },
  {
   "cell_type": "markdown",
   "metadata": {},
   "source": [
    "---\n",
    "## Major Topic"
   ]
  },
  {
   "cell_type": "markdown",
   "metadata": {},
   "source": [
    "### 📝 Notes\n",
    "\n",
    "- Definition of the SQL concept/technique\n",
    "- Syntax pattern with simple example\n",
    "- Common variations or alternatives\n",
    "- Any important technical limitations\n",
    "\n",
    "### 🔑 Key Concepts\n",
    "\n",
    "- Business terms being measured/analyzed\n",
    "- Why these measurements matter\n",
    "- Common industry use cases\n",
    "- Related business metrics/KPIs\n",
    "\n",
    "### 📈 Analysis\n",
    "\n",
    "- Describe what the final result should be e.g. return the retention by X cohort.\n",
    "- Specific problem we're solving\n",
    "- Step-by-step breakdown of solution\n",
    "- Code implementation for each step\n",
    "- Visualization/interpretation of results"
   ]
  },
  {
   "cell_type": "markdown",
   "metadata": {},
   "source": [
    "#### Problem Description\n",
    "\n",
    "**Purpose**\n",
    "\n",
    "**`FUNCTION` / Concept Covered**\n",
    "\n",
    "1. Go into specific step / what we’re going to do. E.g. Use the `=` operator to set a new column to be equal to Experience"
   ]
  },
  {
   "cell_type": "markdown",
   "metadata": {},
   "source": [
    "2. **🔔**: Something new is added."
   ]
  },
  {
   "cell_type": "markdown",
   "metadata": {},
   "source": [
    "**Below are different types of notes we could have**"
   ]
  },
  {
   "cell_type": "markdown",
   "metadata": {},
   "source": [
    "### 💡 Note\n",
    "\n",
    "Any other note we have"
   ]
  },
  {
   "cell_type": "markdown",
   "metadata": {},
   "source": [
    "To insert an image:\n",
    "\n",
    "```markdown\n",
    "<img src=\"../Resources/images/3.2_customer_ltv.png\" alt=\"Continent\" width=\"50%\">\n",
    "```"
   ]
  },
  {
   "cell_type": "markdown",
   "metadata": {},
   "source": [
    "> ⚠️ **Chart Note**: This plots only 20 of our customers for better visualization."
   ]
  }
 ],
 "metadata": {
  "kernelspec": {
   "display_name": "sql_course",
   "language": "python",
   "name": "python3"
  },
  "language_info": {
   "name": "python",
   "version": "3.11.10"
  }
 },
 "nbformat": 4,
 "nbformat_minor": 2
}
